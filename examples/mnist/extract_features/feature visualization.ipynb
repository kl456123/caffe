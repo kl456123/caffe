{
 "cells": [
  {
   "cell_type": "code",
   "execution_count": 1,
   "metadata": {
    "collapsed": true
   },
   "outputs": [],
   "source": [
    "import caffe\n",
    "import os\n",
    "import matplotlib.pyplot as plt\n",
    "\n",
    "%matplotlib inline"
   ]
  },
  {
   "cell_type": "code",
   "execution_count": 2,
   "metadata": {
    "collapsed": true
   },
   "outputs": [],
   "source": [
    "import numpy as np"
   ]
  },
  {
   "cell_type": "code",
   "execution_count": 3,
   "metadata": {
    "collapsed": true
   },
   "outputs": [],
   "source": [
    "# set display defaults\n",
    "plt.rcParams['figure.figsize'] = (10, 10)        # large images\n",
    "plt.rcParams['image.interpolation'] = 'nearest'  # don't interpolate: show square pixels\n",
    "plt.rcParams['image.cmap'] = 'gray'  # use grayscale output rather than a (potentially misleading) color heatmap"
   ]
  },
  {
   "cell_type": "code",
   "execution_count": 4,
   "metadata": {
    "collapsed": true
   },
   "outputs": [],
   "source": [
    "caffe.set_mode_gpu()\n",
    "caffe.set_device(0)"
   ]
  },
  {
   "cell_type": "code",
   "execution_count": 5,
   "metadata": {
    "collapsed": true
   },
   "outputs": [],
   "source": [
    "def vis_square(data):\n",
    "    \"\"\"Take an array of shape (n, height, width) or (n, height, width, 3)\n",
    "       and visualize each (height, width) thing in a grid of size approx. sqrt(n) by sqrt(n)\"\"\"\n",
    "    \n",
    "    # normalize data for display\n",
    "    data = (data - data.min()) / (data.max() - data.min())\n",
    "    \n",
    "    # force the number of filters to be square\n",
    "    n = int(np.ceil(np.sqrt(data.shape[0])))\n",
    "    padding = (((0, n ** 2 - data.shape[0]),\n",
    "               (0, 1), (0, 1))                 # add some space between filters\n",
    "               + ((0, 0),) * (data.ndim - 3))  # don't pad the last dimension (if there is one)\n",
    "    data = np.pad(data, padding, mode='constant', constant_values=1)  # pad with ones (white)\n",
    "    \n",
    "    # tile the filters into an image\n",
    "    data = data.reshape((n, n) + data.shape[1:]).transpose((0, 2, 1, 3) + tuple(range(4, data.ndim + 1)))\n",
    "    data = data.reshape((n * data.shape[1], n * data.shape[3]) + data.shape[4:])\n",
    "    \n",
    "    plt.imshow(data); plt.axis('off')"
   ]
  },
  {
   "cell_type": "code",
   "execution_count": 6,
   "metadata": {
    "collapsed": true
   },
   "outputs": [],
   "source": [
    "def get_max_xy(data):\n",
    "    h = data.shape[0]\n",
    "    w = data.shape[1]\n",
    "    idx = data.ravel().argmax()\n",
    "    return idx/w,idx%w"
   ]
  },
  {
   "cell_type": "code",
   "execution_count": 9,
   "metadata": {
    "collapsed": true
   },
   "outputs": [],
   "source": [
    "model_def = 'PSConv_lenet_train_test.prototxt'\n",
    "model_weights = 'PSConv/PSConv_lenet__iter_20000.caffemodel'\n",
    "\n",
    "\n",
    "def get_net(model_def,model_weights,display=True):\n",
    "    model_def = os.path.abspath(model_def)\n",
    "    model_weights = os.path.abspath(model_weights)\n",
    "\n",
    "    net = caffe.Net(model_def,model_weights,caffe.TEST)\n",
    "    net.forward()\n",
    "    if display:\n",
    "        for layer_name,blob in net.blobs.iteritems():\n",
    "            print layer_name + '\\t' + str(blob.data.shape)\n",
    "    return net"
   ]
  },
  {
   "cell_type": "code",
   "execution_count": 10,
   "metadata": {},
   "outputs": [
    {
     "name": "stdout",
     "output_type": "stream",
     "text": [
      "data\t(100, 1, 28, 28)\n",
      "label\t(100,)\n",
      "label_mnist_1_split_0\t(100,)\n",
      "label_mnist_1_split_1\t(100,)\n",
      "conv1\t(100, 90, 28, 28)\n",
      "pool1\t(100, 90, 14, 14)\n",
      "conv2\t(100, 180, 14, 14)\n",
      "conv3\t(100, 360, 14, 14)\n",
      "conv4\t(100, 360, 7, 7)\n",
      "conv5\t(100, 10, 5, 5)\n",
      "pool\t(100, 10, 1, 1)\n",
      "pool_pool_0_split_0\t(100, 10, 1, 1)\n",
      "pool_pool_0_split_1\t(100, 10, 1, 1)\n",
      "accuracy\t()\n",
      "loss\t()\n"
     ]
    }
   ],
   "source": [
    "net3 = get_net(model_def,model_weights)"
   ]
  },
  {
   "cell_type": "code",
   "execution_count": 29,
   "metadata": {},
   "outputs": [
    {
     "data": {
      "image/png": "[encoded data removed]",
      "text/plain": [
       "<matplotlib.figure.Figure at 0x7f390b526450>"
      ]
     },
     "metadata": {},
     "output_type": "display_data"
    },
    {
     "data": {
      "image/png": "[encoded data removed]",
      "text/plain": [
       "<matplotlib.figure.Figure at 0x7f390b5269d0>"
      ]
     },
     "metadata": {},
     "output_type": "display_data"
    },
    {
     "data": {
      "image/png": "[encoded data removed]",
      "text/plain": [
       "<matplotlib.figure.Figure at 0x7f390b412050>"
      ]
     },
     "metadata": {},
     "output_type": "display_data"
    },
    {
     "data": {
      "image/png": "[encoded data removed]",
      "text/plain": [
       "<matplotlib.figure.Figure at 0x7f390aca9b50>"
      ]
     },
     "metadata": {},
     "output_type": "display_data"
    }
   ],
   "source": [
    "img_idx = 0\n",
    "cls_idx = 7\n",
    "layer_name = 'conv5'\n",
    "help_function(layer_name,img_idx,cls_idx,net3)"
   ]
  },
  {
   "cell_type": "code",
   "execution_count": 28,
   "metadata": {},
   "outputs": [
    {
     "data": {
      "image/png": "[encoded data removed]",
      "text/plain": [
       "<matplotlib.figure.Figure at 0x7f390b526f50>"
      ]
     },
     "metadata": {},
     "output_type": "display_data"
    }
   ],
   "source": [
    "vis_square(net3.blobs['conv5'].data[0,:])"
   ]
  },
  {
   "cell_type": "code",
   "execution_count": 18,
   "metadata": {},
   "outputs": [
    {
     "name": "stdout",
     "output_type": "stream",
     "text": [
      "data\t(100, 1, 28, 28)\n",
      "label\t(100,)\n",
      "label_mnist_1_split_0\t(100,)\n",
      "label_mnist_1_split_1\t(100,)\n",
      "conv1\t(100, 90, 28, 28)\n",
      "pool1\t(100, 90, 14, 14)\n",
      "conv2\t(100, 180, 14, 14)\n",
      "conv3\t(100, 360, 14, 14)\n",
      "conv4\t(100, 360, 7, 7)\n",
      "conv5\t(100, 10, 5, 5)\n",
      "pool\t(100, 10, 1, 1)\n",
      "pool_pool_0_split_0\t(100, 10, 1, 1)\n",
      "pool_pool_0_split_1\t(100, 10, 1, 1)\n",
      "accuracy\t()\n",
      "loss\t()\n"
     ]
    }
   ],
   "source": [
    "model_def = 'Conv_lenet_train_test.prototxt'\n",
    "model_weights = 'Conv/Conv_lenet__iter_20000.caffemodel'\n",
    "net4 = get_net(model_def,model_weights)\n"
   ]
  },
  {
   "cell_type": "code",
   "execution_count": 26,
   "metadata": {},
   "outputs": [
    {
     "data": {
      "image/png": "[encoded data removed]",
      "text/plain": [
       "<matplotlib.figure.Figure at 0x7f390b091bd0>"
      ]
     },
     "metadata": {},
     "output_type": "display_data"
    },
    {
     "data": {
      "image/png": "[encoded data removed]",
      "text/plain": [
       "<matplotlib.figure.Figure at 0x7f390b1767d0>"
      ]
     },
     "metadata": {},
     "output_type": "display_data"
    },
    {
     "data": {
      "image/png": "[encoded data removed]",
      "text/plain": [
       "<matplotlib.figure.Figure at 0x7f390a974e50>"
      ]
     },
     "metadata": {},
     "output_type": "display_data"
    },
    {
     "data": {
      "image/png": "[encoded data removed]",
      "text/plain": [
       "<matplotlib.figure.Figure at 0x7f390ab60810>"
      ]
     },
     "metadata": {},
     "output_type": "display_data"
    }
   ],
   "source": [
    "help_function(layer_name,img_idx,cls_idx,net4)"
   ]
  },
  {
   "cell_type": "code",
   "execution_count": 19,
   "metadata": {},
   "outputs": [
    {
     "data": {
      "image/png": "[encoded data removed]",
      "text/plain": [
       "<matplotlib.figure.Figure at 0x7f390b00aad0>"
      ]
     },
     "metadata": {},
     "output_type": "display_data"
    }
   ],
   "source": [
    "vis_square(net4.blobs['conv5'].data[0,:])"
   ]
  },
  {
   "cell_type": "code",
   "execution_count": 23,
   "metadata": {
    "collapsed": true
   },
   "outputs": [],
   "source": [
    "def get_feat_g(layer_name,\n",
    "               img_idx,\n",
    "               cls_idx,\n",
    "               net,\n",
    "               kernel_spatial_idx,\n",
    "               group_idx=None,\n",
    "               display=True):\n",
    "    \n",
    "    \n",
    "    \n",
    "    layer = net.layer_dict[layer_name]\n",
    "    \n",
    "    num_classes = layer.blobs[0].data.shape[0]\n",
    "    assert cls_idx <num_classes,\\\n",
    "    'cls_idx is out of range,it should be between (0,{:d})'.format(num_classes-1)\n",
    "\n",
    "    filters_cls = layer.blobs[0].data[cls_idx]\n",
    "    bias_cls = layer.blobs[1].data[cls_idx]\n",
    "    \n",
    "#     filter param\n",
    "    kernel_in_channels = filters_cls.shape[0]\n",
    "    kernel_space_dim = filters_cls.shape[-1]*filters_cls.shape[-2]\n",
    "    \n",
    "#     bottom data param\n",
    "    bottom_name = net.bottom_names[layer_name][0] \n",
    "    bottom_shape = net.blobs[bottom_name].data.shape\n",
    "    \n",
    "    batch_size = bottom_shape[0]\n",
    "    in_channels = bottom_shape[1]\n",
    "    height = bottom_shape[2]\n",
    "    width = bottom_shape[3]\n",
    "    \n",
    "    assert img_idx<batch_size,\\\n",
    "    'img_idx is out of range,it should be between (0,{:d})'.format(batch_size-1)\n",
    "    \n",
    "#     so infer ps_group\n",
    "    assert in_channels%kernel_in_channels==0,'filter shape error'\n",
    "    ps_group = in_channels/kernel_in_channels\n",
    "    \n",
    "    \n",
    "    \n",
    "#    check if use all in channels or ps_group channels\n",
    "    if kernel_space_dim==ps_group:\n",
    "        ps=True\n",
    "        group_idx = kernel_spatial_idx\n",
    "    else:\n",
    "        ps=False\n",
    "#         print 'you are fool'\n",
    "        assert ps_group==1, 'just support ps_group=1 now'\n",
    "        group_idx = 0\n",
    "    \n",
    "    assert group_idx is not None,'group_idx must be specific in normal model'\n",
    "    assert group_idx<ps_group,\\\n",
    "    'group_idx is out of range, it should be between (0,{:d})'.format(ps_group-1)\n",
    "    \n",
    "    conv_g = net.blobs[bottom_name]\\\n",
    "    .data[img_idx,kernel_in_channels*group_idx:kernel_in_channels*(group_idx+1)]\n",
    "\n",
    "    conv_g_reshaped = conv_g.reshape((kernel_in_channels,-1))\n",
    "    filters_cls = filters_cls.reshape((kernel_in_channels,-1))\n",
    "    if ps:\n",
    "        filters_cls_g = filters_cls[:,group_idx]\n",
    "    else:\n",
    "        assert kernel_spatial_idx is not None,\\\n",
    "        'kernel_spatial_idx must be specific in normal model'\n",
    "        filters_cls_g = filters_cls[:,kernel_spatial_idx]\n",
    "\n",
    "    filters_cls_g_reshaped = filters_cls_g.reshape((1,-1))\n",
    "    conv_cls_g = filters_cls_g_reshaped.dot(conv_g_reshaped)+bias_cls\n",
    "    \n",
    "    conv_cls_g_reshaped = conv_cls_g.reshape((1,height,width))\n",
    "#     print height\n",
    "    if display:\n",
    "        plt.figure(figsize=(2, 2))\n",
    "        vis_square(conv_cls_g_reshaped)\n",
    "    return conv_cls_g_reshaped"
   ]
  },
  {
   "cell_type": "code",
   "execution_count": 14,
   "metadata": {
    "collapsed": true
   },
   "outputs": [],
   "source": [
    "def help_function(layer_name,img_idx,cls_idx,net):\n",
    "    weight_shape = net.layer_dict[layer_name].blobs[0].data[cls_idx].shape\n",
    "    kernel_spatial_dim = weight_shape[-1] * weight_shape[-1]\n",
    "    for kernel_spatial_idx in range(kernel_spatial_dim):\n",
    "        get_feat_g(layer_name,img_idx,cls_idx,net,kernel_spatial_idx)"
   ]
  },
  {
   "cell_type": "code",
   "execution_count": 452,
   "metadata": {
    "collapsed": true
   },
   "outputs": [],
   "source": [
    "\n",
    "def convert_out2in(spatial_center,kernel_spatial,pad,stride,dilation=1):\n",
    "\n",
    "    out_h_idx = spatial_center[0]\n",
    "    out_w_idx = spatial_center[1]\n",
    "    in_h_idx = out_h_idx*stride-pad+kernel_spatial[0]*dilation\n",
    "    in_w_idx = out_w_idx*stride-pad+kernel_spatial[1]*dilation\n",
    "    return in_h_idx,in_w_idx\n",
    "# arg: center is 3D like (c,h,w)\n",
    "def  get_next_layer_max_xy(net,\n",
    "                           layer_name,\n",
    "                           center,\n",
    "                           image_idx,\n",
    "                           \n",
    "                           pad=0,\n",
    "                           stride=1,\n",
    "                           dilation=2,ps=True):\n",
    "    layer = net.layer_dict[layer_name]\n",
    "    bottom_name = net.bottom_names[layer_name][0]\n",
    "#     shape: (c,h,w)\n",
    "    data = net.blobs[bottom_name].data[image_idx]\n",
    "    in_c = data.shape[0]\n",
    "    in_h = data.shape[1]\n",
    "    in_w = data.shape[2]\n",
    "#     params\n",
    "    weights = layer.blobs[0].data\n",
    "#     print weights.shape\n",
    "    bias = layer.blobs[1].data\n",
    "#     print weights.shape\n",
    "    h = weights.shape[-2]\n",
    "    w = weights.shape[-1]\n",
    "    kernel_spatial_dim = h*w\n",
    "#     print kernel_spatial_dim\n",
    "    out_c_idx = center[0]\n",
    "    out_h_idx = center[1]\n",
    "    out_w_idx = center[2]\n",
    "    \n",
    "    weights_sliced = weights[out_c_idx]\n",
    "    res = []\n",
    "    for kernel_spatial_idx in range(kernel_spatial_dim):\n",
    "        max_activate_position = []\n",
    "        if ps:\n",
    "            assert in_c%kernel_spatial_dim==0,'input channel is not correct'\n",
    "            in_c_per_g = in_c/kernel_spatial_dim\n",
    "            data_sliced=data[in_c_per_g*kernel_spatial_idx:in_c_per_g*(kernel_spatial_idx+1)]\n",
    "        else:\n",
    "            data_sliced = data\n",
    "        kernel_spatial = (kernel_spatial_idx/w,kernel_spatial_idx%w)\n",
    "#         print kernel_spatial\n",
    "        in_spatial = convert_out2in(center[1:],\n",
    "                                    kernel_spatial,\n",
    "                                    pad,\n",
    "                                    stride,\n",
    "                                    dilation)\n",
    "#         print in_spatial\n",
    "        scores = weights_sliced[:,kernel_spatial_idx/w,kernel_spatial_idx%w]*\\\n",
    "        data_sliced[:,in_spatial[0],in_spatial[1]]\n",
    "        in_c_idx = scores.argmax()\n",
    "        if ps:\n",
    "            in_c_idx = in_c_per_g*kernel_spatial_idx+in_c_idx\n",
    "        max_activate_position.append(in_c_idx)\n",
    "        max_activate_position+=list(in_spatial)\n",
    "        res.append(max_activate_position)\n",
    "    return res"
   ]
  },
  {
   "cell_type": "code",
   "execution_count": 461,
   "metadata": {
    "collapsed": true
   },
   "outputs": [],
   "source": [
    "out_c_idx = 7\n",
    "center = []\n",
    "center.append(out_c_idx)\n",
    "center+=list(get_max_xy(net3.blobs['conv5'].data[0,7]))\n",
    "# print center\n",
    "next_activated_points = get_next_layer_max_xy(net3,'conv5',center,0)\n",
    "# print next_activated_points"
   ]
  },
  {
   "cell_type": "code",
   "execution_count": 462,
   "metadata": {
    "collapsed": true
   },
   "outputs": [],
   "source": [
    "def mapping2origial(activated_points,feat_map_size,origial_map_size):\n",
    "    scale = np.array(origial_map_size).astype(np.float)/np.array(feat_map_size)\n",
    "    return np.array(activated_points)[:,1:]*scale\n",
    "\n",
    "def vis_max_activate_point(net,activated_points,pixel_val=0.5):\n",
    "#     note that activated points is 2D (h,w)\n",
    "    data = net.blobs['data'].data[0].copy()\n",
    "    activated_points = list(activated_points)\n",
    "    for origial_activated_point in activated_points:\n",
    "#         print np.ceil(origial_activated_point[0])\n",
    "        data[:,np.ceil(origial_activated_point[0]).astype(np.int),np.ceil(origial_activated_point[1]).astype(np.int)]=pixel_val\n",
    "    vis_square(data)"
   ]
  },
  {
   "cell_type": "code",
   "execution_count": 463,
   "metadata": {
    "collapsed": true
   },
   "outputs": [],
   "source": [
    "def normalize(all_scores,type='relu'):\n",
    "    _sum = 0\n",
    "    all_proportion = []\n",
    "    for idx,score in enumerate(all_scores):\n",
    "        if score<0 and type=='relu':\n",
    "            all_scores[idx] = 0\n",
    "            continue\n",
    "        _sum += score\n",
    "    for score in all_scores:\n",
    "        all_proportion.append(1.0*score/_sum)\n",
    "    return all_proportion\n",
    "\n",
    "def get_part_proportion(layer_name,\n",
    "                        center,\n",
    "                        net,\n",
    "                        image_idx=0,\n",
    "                        pad=0,\n",
    "                        stride=1,\n",
    "                        dilation=1,\n",
    "                        ps=True):\n",
    "    next_activated_points = get_next_layer_max_xy(net,\n",
    "                                                  layer_name,\n",
    "                                                  center,\n",
    "                                                  image_idx,\n",
    "                                                  pad,\n",
    "                                                  stride,\n",
    "                                                  dilation,\n",
    "                                                 ps)\n",
    "    all_scores = []\n",
    "    layer = net.layer_dict[layer_name]\n",
    "#     params\n",
    "    weights = layer.blobs[0].data\n",
    "    h = weights.shape[-2]\n",
    "    w = weights.shape[-1]\n",
    "    kernel_spatial_dim = h*w\n",
    "    cls_idx = center[0]\n",
    "    for kernel_spatial_idx in range(kernel_spatial_dim):\n",
    "        conv_cls_g_reshaped = get_feat_g(layer_name,\n",
    "                   image_idx,\n",
    "                   cls_idx,\n",
    "                   net,\n",
    "                   kernel_spatial_idx,\n",
    "                   kernel_spatial_idx,\n",
    "                   False)\n",
    "        next_activated_point = next_activated_points[kernel_spatial_idx]\n",
    "        all_scores.append(conv_cls_g_reshaped[0,next_activated_point[-2],next_activated_point[-1]])\n",
    "    return normalize(all_scores),all_scores"
   ]
  },
  {
   "cell_type": "code",
   "execution_count": 464,
   "metadata": {
    "collapsed": true
   },
   "outputs": [],
   "source": [
    "feat_map_size = net3.blobs['conv4'].data.shape[2:]\n",
    "origial_map_size = net3.blobs['data'].data.shape[2:]\n",
    "origial_activated_points = mapping2origial(next_activated_points,\n",
    "                feat_map_size,\n",
    "                origial_map_size)\n",
    "# print origial_activated_points"
   ]
  },
  {
   "cell_type": "code",
   "execution_count": 465,
   "metadata": {
    "scrolled": false
   },
   "outputs": [
    {
     "data": {
      "image/png": "[encoded data removed]",
      "text/plain": [
       "<matplotlib.figure.Figure at 0x7fa4d9830590>"
      ]
     },
     "metadata": {},
     "output_type": "display_data"
    }
   ],
   "source": [
    "vis_max_activate_point(net3,origial_activated_points)"
   ]
  },
  {
   "cell_type": "code",
   "execution_count": 466,
   "metadata": {},
   "outputs": [
    {
     "name": "stdout",
     "output_type": "stream",
     "text": [
      "[[88, 2, 2], [119, 2, 3], [260, 3, 2], [342, 3, 3]]\n",
      "[[88, 2, 6], [119, 2, 7], [225, 3, 6], [342, 3, 7]]\n",
      "[[12, 6, 2], [152, 6, 3], [210, 7, 2], [357, 7, 3]]\n",
      "[[25, 6, 6], [135, 6, 7], [237, 7, 6], [339, 7, 7]]\n"
     ]
    }
   ],
   "source": [
    "pad = 0\n",
    "stride = 2\n",
    "dilation = 1\n",
    "for next_activated_point in next_activated_points:\n",
    "    print get_next_layer_max_xy(net3,'conv4',next_activated_point,0,pad,stride,dilation)"
   ]
  },
  {
   "cell_type": "code",
   "execution_count": 467,
   "metadata": {},
   "outputs": [
    {
     "name": "stdout",
     "output_type": "stream",
     "text": [
      "[[79, 1, 1], [128, 1, 3], [262, 3, 1], [332, 3, 3]]\n"
     ]
    }
   ],
   "source": [
    "print next_activated_points"
   ]
  },
  {
   "cell_type": "code",
   "execution_count": 468,
   "metadata": {},
   "outputs": [
    {
     "data": {
      "image/png": "[encoded data removed]",
      "text/plain": [
       "<matplotlib.figure.Figure at 0x7fa4d9830390>"
      ]
     },
     "metadata": {},
     "output_type": "display_data"
    },
    {
     "data": {
      "image/png": "[encoded data removed]",
      "text/plain": [
       "<matplotlib.figure.Figure at 0x7fa4db7fc890>"
      ]
     },
     "metadata": {},
     "output_type": "display_data"
    },
    {
     "data": {
      "image/png": "[encoded data removed]",
      "text/plain": [
       "<matplotlib.figure.Figure at 0x7fa4d9cce850>"
      ]
     },
     "metadata": {},
     "output_type": "display_data"
    },
    {
     "data": {
      "image/png": "[encoded data removed]",
      "text/plain": [
       "<matplotlib.figure.Figure at 0x7fa4db714d10>"
      ]
     },
     "metadata": {},
     "output_type": "display_data"
    }
   ],
   "source": [
    "help_function('conv5',0,7,net3)"
   ]
  },
  {
   "cell_type": "code",
   "execution_count": 469,
   "metadata": {},
   "outputs": [
    {
     "name": "stdout",
     "output_type": "stream",
     "text": [
      "[0.59833373199915696, 0.25482738991426895, 0.0, 0.14683887808657409]\n",
      "52.0455303192\n"
     ]
    }
   ],
   "source": [
    "\n",
    "all_proportion,all_scores = get_part_proportion('conv5',\n",
    "                        center,\n",
    "                        net3,\n",
    "                        image_idx=0,\n",
    "                        pad=0,\n",
    "                        stride=1,\n",
    "                        dilation=2,\n",
    "                        ps=True)\n",
    "print all_proportion\n",
    "print sum(all_scores)"
   ]
  },
  {
   "cell_type": "code",
   "execution_count": 470,
   "metadata": {},
   "outputs": [
    {
     "data": {
      "text/plain": [
       "array([[ 15.62751198,  21.85580635,  17.28256607,  12.94429016],\n",
       "       [ 26.7072506 ,  51.04868698,  48.57373428,  35.87853241],\n",
       "       [ 10.96104622,  14.31527519,  14.66806221,  11.22163963],\n",
       "       [  9.51441574,  16.65514183,  12.21765232,  14.70408821]], dtype=float32)"
      ]
     },
     "execution_count": 470,
     "metadata": {},
     "output_type": "execute_result"
    }
   ],
   "source": [
    "net3.blobs['conv5'].data[0,7]"
   ]
  },
  {
   "cell_type": "code",
   "execution_count": 388,
   "metadata": {},
   "outputs": [
    {
     "data": {
      "image/png": "[encoded data removed]",
      "text/plain": [
       "<matplotlib.figure.Figure at 0x7fa4d9830a10>"
      ]
     },
     "metadata": {},
     "output_type": "display_data"
    },
    {
     "data": {
      "image/png": "[encoded data removed]",
      "text/plain": [
       "<matplotlib.figure.Figure at 0x7fa4e02c2f50>"
      ]
     },
     "metadata": {},
     "output_type": "display_data"
    },
    {
     "data": {
      "image/png": "[encoded data removed]",
      "text/plain": [
       "<matplotlib.figure.Figure at 0x7fa4e04e7f50>"
      ]
     },
     "metadata": {},
     "output_type": "display_data"
    },
    {
     "data": {
      "image/png": "[encoded data removed]",
      "text/plain": [
       "<matplotlib.figure.Figure at 0x7fa4e0097d90>"
      ]
     },
     "metadata": {},
     "output_type": "display_data"
    }
   ],
   "source": [
    "help_function('conv4',0,79,net3)"
   ]
  },
  {
   "cell_type": "code",
   "execution_count": 389,
   "metadata": {},
   "outputs": [
    {
     "data": {
      "image/png": "[encoded data removed]",
      "text/plain": [
       "<matplotlib.figure.Figure at 0x7fa4db7ef110>"
      ]
     },
     "metadata": {},
     "output_type": "display_data"
    },
    {
     "data": {
      "image/png": "[encoded data removed]",
      "text/plain": [
       "<matplotlib.figure.Figure at 0x7fa4e02c2c10>"
      ]
     },
     "metadata": {},
     "output_type": "display_data"
    },
    {
     "data": {
      "image/png": "[encoded data removed]",
      "text/plain": [
       "<matplotlib.figure.Figure at 0x7fa4d9ac9fd0>"
      ]
     },
     "metadata": {},
     "output_type": "display_data"
    },
    {
     "data": {
      "image/png": "[encoded data removed]",
      "text/plain": [
       "<matplotlib.figure.Figure at 0x7fa4d9824810>"
      ]
     },
     "metadata": {},
     "output_type": "display_data"
    }
   ],
   "source": [
    "help_function('conv4',0,128,net3)"
   ]
  },
  {
   "cell_type": "code",
   "execution_count": 390,
   "metadata": {},
   "outputs": [
    {
     "data": {
      "image/png": "[encoded data removed]",
      "text/plain": [
       "<matplotlib.figure.Figure at 0x7fa4d9296850>"
      ]
     },
     "metadata": {},
     "output_type": "display_data"
    },
    {
     "data": {
      "image/png": "[encoded data removed]",
      "text/plain": [
       "<matplotlib.figure.Figure at 0x7fa4e02c27d0>"
      ]
     },
     "metadata": {},
     "output_type": "display_data"
    },
    {
     "data": {
      "image/png": "[encoded data removed]",
      "text/plain": [
       "<matplotlib.figure.Figure at 0x7fa4d91c0450>"
      ]
     },
     "metadata": {},
     "output_type": "display_data"
    },
    {
     "data": {
      "image/png": "[encoded data removed]",
      "text/plain": [
       "<matplotlib.figure.Figure at 0x7fa4d929dc10>"
      ]
     },
     "metadata": {},
     "output_type": "display_data"
    }
   ],
   "source": [
    "help_function('conv4',0,262,net3)"
   ]
  },
  {
   "cell_type": "markdown",
   "metadata": {},
   "source": [
    "# another net for compasion"
   ]
  },
  {
   "cell_type": "code",
   "execution_count": 435,
   "metadata": {},
   "outputs": [
    {
     "data": {
      "image/png": "[encoded data removed]",
      "text/plain": [
       "<matplotlib.figure.Figure at 0x7fa4d9450210>"
      ]
     },
     "metadata": {},
     "output_type": "display_data"
    },
    {
     "data": {
      "image/png": "[encoded data removed]",
      "text/plain": [
       "<matplotlib.figure.Figure at 0x7fa4d9453a50>"
      ]
     },
     "metadata": {},
     "output_type": "display_data"
    },
    {
     "data": {
      "image/png": "[encoded data removed]",
      "text/plain": [
       "<matplotlib.figure.Figure at 0x7fa4d9677c50>"
      ]
     },
     "metadata": {},
     "output_type": "display_data"
    },
    {
     "data": {
      "image/png": "[encoded data removed]",
      "text/plain": [
       "<matplotlib.figure.Figure at 0x7fa4e013d110>"
      ]
     },
     "metadata": {},
     "output_type": "display_data"
    }
   ],
   "source": [
    "# net4\n",
    "help_function('conv5',0,7,net4)"
   ]
  },
  {
   "cell_type": "code",
   "execution_count": 472,
   "metadata": {},
   "outputs": [
    {
     "name": "stdout",
     "output_type": "stream",
     "text": [
      "[0.25380054047015327, 0.42406293607607548, 0.0, 0.32213652345377125]\n",
      "55.096657753\n"
     ]
    }
   ],
   "source": [
    "out_c_idx = 7\n",
    "center = []\n",
    "center.append(out_c_idx)\n",
    "center+=list(get_max_xy(net4.blobs['conv5'].data[0,7]))\n",
    "# print center\n",
    "\n",
    "# print next_activated_points\n",
    "all_proportion,all_scores = get_part_proportion('conv5',\n",
    "                        center,\n",
    "                        net4,\n",
    "                        image_idx=0,\n",
    "                        pad=0,\n",
    "                        stride=1,\n",
    "                        dilation=2,\n",
    "                        ps=False)\n",
    "print all_proportion\n",
    "print sum(all_scores)"
   ]
  },
  {
   "cell_type": "code",
   "execution_count": 473,
   "metadata": {
    "scrolled": false
   },
   "outputs": [
    {
     "name": "stdout",
     "output_type": "stream",
     "text": [
      "[7, 2, 1]\n",
      "[[ 12.42343903  17.47160721  22.72000504  14.27887058   9.6363821 ]\n",
      " [ 15.03734303  18.44903564  22.95429802  11.95959949  11.38565254]\n",
      " [ 24.5782032   54.34946823  49.44903564  38.81349945  24.76303482]\n",
      " [ 25.13131523  38.57902908  21.59469986  19.3706913    1.37426496]\n",
      " [ 12.70007229   6.69870996   9.00494576   6.51439428   0.05453178]]\n"
     ]
    },
    {
     "data": {
      "image/png": "[encoded data removed]",
      "text/plain": [
       "<matplotlib.figure.Figure at 0x7fa4db7fca50>"
      ]
     },
     "metadata": {},
     "output_type": "display_data"
    }
   ],
   "source": [
    "print center\n",
    "print net4.blobs['conv5'].data[0,7]\n",
    "vis_square(net4.blobs['conv5'].data[0])"
   ]
  },
  {
   "cell_type": "code",
   "execution_count": 474,
   "metadata": {},
   "outputs": [
    {
     "name": "stdout",
     "output_type": "stream",
     "text": [
      "[[211, 2, 1], [211, 2, 3], [164, 4, 1], [214, 4, 3]]\n"
     ]
    }
   ],
   "source": [
    "next_activated_points_4 = get_next_layer_max_xy(net4,\n",
    "                           'conv5',center,0,ps=False)\n",
    "print next_activated_points_4"
   ]
  },
  {
   "cell_type": "code",
   "execution_count": 477,
   "metadata": {
    "collapsed": true
   },
   "outputs": [],
   "source": [
    "def help_vis_max_activated_point(net,layer_name,next_activated_points):\n",
    "#     next_activated_points = get_next_layer_max_xy(net,'conv5',center,0)\n",
    "    feat_map_size = net.blobs[layer_name].data.shape[2:]\n",
    "    origial_map_size = net.blobs['data'].data.shape[2:]\n",
    "    origial_activated_points = mapping2origial(next_activated_points,\n",
    "                    feat_map_size,\n",
    "                    origial_map_size)\n",
    "    vis_max_activate_point(net4,origial_activated_points)"
   ]
  },
  {
   "cell_type": "code",
   "execution_count": null,
   "metadata": {
    "collapsed": true
   },
   "outputs": [],
   "source": [
    "help_vis_max_activated_point(net4,'conv4',next_activated_points_4)"
   ]
  }
 ],
 "metadata": {
  "kernelspec": {
   "display_name": "Python 2",
   "language": "python",
   "name": "python2"
  },
  "language_info": {
   "codemirror_mode": {
    "name": "ipython",
    "version": 2
   },
   "file_extension": ".py",
   "mimetype": "text/x-python",
   "name": "python",
   "nbconvert_exporter": "python",
   "pygments_lexer": "ipython2",
   "version": "2.7.12"
  }
 },
 "nbformat": 4,
 "nbformat_minor": 2
}
